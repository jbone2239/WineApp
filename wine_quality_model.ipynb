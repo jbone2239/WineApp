{
 "cells": [
  {
   "cell_type": "code",
   "execution_count": 3,
   "id": "919db786-bbf9-4821-82df-4f08f49d240f",
   "metadata": {},
   "outputs": [
    {
     "name": "stdout",
     "output_type": "stream",
     "text": [
      "MSE: 0.5412384543695572\n",
      "R²: 0.26715748512627424\n"
     ]
    },
    {
     "data": {
      "text/plain": [
       "['C:\\\\Users\\\\allib\\\\flaskenv\\\\wine-quality\\\\wine_quality_lr_model.pkl']"
      ]
     },
     "execution_count": 3,
     "metadata": {},
     "output_type": "execute_result"
    }
   ],
   "source": [
    "import pandas as pd\n",
    "from sklearn.model_selection import train_test_split\n",
    "from sklearn.linear_model import LinearRegression\n",
    "from sklearn.metrics import mean_squared_error, r2_score\n",
    "import joblib\n",
    "import os\n",
    "\n",
    "# Set paths\n",
    "data_path = r\"C:\\Users\\allib\\OneDrive\\Desktop\\MS Data Science\\ANA680\\Week3\"\n",
    "flask_project_path = r\"C:\\Users\\allib\\flaskenv\\wine-quality\"\n",
    "\n",
    "# load datasets\n",
    "red_df = pd.read_csv(os.path.join(data_path, \"winequality-red.csv\"), sep=';')\n",
    "white_df = pd.read_csv(os.path.join(data_path, \"winequality-white.csv\"), sep=';')\n",
    "\n",
    "# Add wine_type column\n",
    "red_df['wine_type'] = 'red'\n",
    "white_df['wine_type'] = 'white'\n",
    "\n",
    "# Combine datasets\n",
    "df = pd.concat([red_df, white_df], ignore_index=True)\n",
    "\n",
    "# Prepare features and target\n",
    "X = df.drop(['quality'], axis=1)\n",
    "y = df['quality']\n",
    "\n",
    "# Encode wine_type\n",
    "X = pd.get_dummies(X, columns=['wine_type'], drop_first=True)\n",
    "\n",
    "# Train/test split\n",
    "X_train, X_test, y_train, y_test = train_test_split(X, y, test_size=0.2, random_state=42)\n",
    "\n",
    "# Train linear regression model\n",
    "lr_model = LinearRegression()\n",
    "lr_model.fit(X_train, y_train)\n",
    "\n",
    "# Evaluate\n",
    "y_pred = lr_model.predict(X_test)\n",
    "mse_lr = mean_squared_error(y_test, y_pred)\n",
    "r2_lr = r2_score(y_test, y_pred)\n",
    "print(\"MSE:\", mse_lr)\n",
    "print(\"R²:\", r2_lr)\n",
    "\n",
    "# Save model\n",
    "model_path = os.path.join(flask_project_path, \"wine_quality_lr_model.pkl\")\n",
    "joblib.dump(lr_model, model_path)"
   ]
  },
  {
   "cell_type": "code",
   "execution_count": null,
   "id": "0aa622e5-353b-4b17-9ce3-3758150f547a",
   "metadata": {},
   "outputs": [],
   "source": []
  }
 ],
 "metadata": {
  "kernelspec": {
   "display_name": "Python 3 (ipykernel)",
   "language": "python",
   "name": "python3"
  },
  "language_info": {
   "codemirror_mode": {
    "name": "ipython",
    "version": 3
   },
   "file_extension": ".py",
   "mimetype": "text/x-python",
   "name": "python",
   "nbconvert_exporter": "python",
   "pygments_lexer": "ipython3",
   "version": "3.12.4"
  }
 },
 "nbformat": 4,
 "nbformat_minor": 5
}
